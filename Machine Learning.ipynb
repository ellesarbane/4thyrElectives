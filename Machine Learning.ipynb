{
 "cells": [
  {
   "cell_type": "markdown",
   "id": "375b2b39",
   "metadata": {},
   "source": [
    "area of enginerring that machine mimics human\n",
    "hard code programming give specific instruction\n",
    "ML isn't hard coding. but patterns and interference\n",
    "ML decisions based on previous data\n",
    "Supervised Machine Learning - labeled data\n",
    "(Regression 'output = numerical', Classification 'output = category')\n",
    "Unsupervised Machine Learning - unlabeled data, clustering\n",
    "Reinforcement Machine Learning - based on policies"
   ]
  }
 ],
 "metadata": {
  "kernelspec": {
   "display_name": "Python 3 (ipykernel)",
   "language": "python",
   "name": "python3"
  },
  "language_info": {
   "codemirror_mode": {
    "name": "ipython",
    "version": 3
   },
   "file_extension": ".py",
   "mimetype": "text/x-python",
   "name": "python",
   "nbconvert_exporter": "python",
   "pygments_lexer": "ipython3",
   "version": "3.7.11"
  }
 },
 "nbformat": 4,
 "nbformat_minor": 5
}
